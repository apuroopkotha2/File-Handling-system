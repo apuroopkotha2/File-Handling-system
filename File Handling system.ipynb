{
 "cells": [
  {
   "cell_type": "code",
   "execution_count": 1,
   "id": "85cf2f44",
   "metadata": {},
   "outputs": [],
   "source": [
    "# basic import statements\n",
    "import os\n",
    "import re\n",
    "import gc\n",
    "import warnings\n",
    "import numpy as np\n",
    "import pandas as pd\n",
    "import collections\n",
    "warnings.filterwarnings(\"ignore\")\n",
    "from datetime import date \n",
    "\n",
    "#set max display in notebook\n",
    "pd.set_option('display.max_rows', 500)\n",
    "pd.set_option('display.max_columns', 500)\n",
    "pd.set_option('display.width', 1000)\n",
    "\n",
    "#Show multiple output in console\n",
    "from IPython.core.interactiveshell import InteractiveShell\n",
    "InteractiveShell.ast_node_interactivity = 'all'"
   ]
  },
  {
   "cell_type": "code",
   "execution_count": 2,
   "id": "e69d0b53",
   "metadata": {},
   "outputs": [],
   "source": [
    "# some important libraries to create a file handling system\n",
    "\n",
    "import shutil #replicate the complete dir. It copies an entire dir tree rooted at source to the destination dir.\n",
    "import re # regular expression support"
   ]
  },
  {
   "cell_type": "code",
   "execution_count": 6,
   "id": "211b78ab",
   "metadata": {},
   "outputs": [],
   "source": [
    "# defining a function\n",
    "\n",
    "def organize_files(source_folder, destination_folder): \n",
    "    # Create destination folder if it doesn't exist\n",
    "    if not os.path.exists(destination_folder):\n",
    "        os.makedirs(destination_folder)\n",
    "\n",
    "    # Define the regex pattern for file names containing 'question' or 'questions'\n",
    "    pattern = re.compile(r'question|questions', re.IGNORECASE)\n",
    "    \n",
    "    # Iterate through items in the source folder\n",
    "    for item in os.listdir(source_folder):\n",
    "        source_path = os.path.join(source_folder, item)\n",
    "\n",
    "        # Check if the item is a file and the name matches the pattern\n",
    "        if os.path.isfile(source_path) and re.search(pattern, item):\n",
    "            # Move the file to the destination folder\n",
    "            destination_path = os.path.join(destination_folder, item)\n",
    "            shutil.move(source_path, destination_path)\n",
    "            print(f'Moved: {item} to {destination_folder}')"
   ]
  },
  {
   "cell_type": "code",
   "execution_count": 7,
   "id": "c1b7b556",
   "metadata": {},
   "outputs": [
    {
     "name": "stdout",
     "output_type": "stream",
     "text": [
      "Moved: DS interview questions and answers.pdf to /Users/kothaapuroop/Desktop/Text Books/interview_questions\n",
      "Moved: Data Analyst Interview Questions .pdf to /Users/kothaapuroop/Desktop/Text Books/interview_questions\n",
      "Moved: Data Analyst intrview questions .pdf to /Users/kothaapuroop/Desktop/Text Books/interview_questions\n",
      "Moved: apple case study interview questions .pdf to /Users/kothaapuroop/Desktop/Text Books/interview_questions\n",
      "Moved: 60 Python Coding Interview Questions .pdf to /Users/kothaapuroop/Desktop/Text Books/interview_questions\n",
      "Moved: 70 ML interview Questions .pdf to /Users/kothaapuroop/Desktop/Text Books/interview_questions\n",
      "Moved: 100 Datascience Interview Questions.pdf to /Users/kothaapuroop/Desktop/Text Books/interview_questions\n",
      "Moved: Data structures Internview Questions .pdf to /Users/kothaapuroop/Desktop/Text Books/interview_questions\n",
      "Moved: Most Asked Python Interview Questions.pdf to /Users/kothaapuroop/Desktop/Text Books/interview_questions\n",
      "Moved: top google questions .pdf to /Users/kothaapuroop/Desktop/Text Books/interview_questions\n"
     ]
    }
   ],
   "source": [
    "if __name__ == \"__main__\":\n",
    "    # Specify the source folder containing PDF and Word files\n",
    "    source_folder = '/Users/kothaapuroop/Desktop/Text Books'\n",
    "\n",
    "    # Specify the destination folder for interview questions\n",
    "    # destination_folder = os.path.join(source_folder, 'interview_questions')\n",
    "    destination_folder = '/Users/kothaapuroop/Desktop/Text Books/interview_questions'\n",
    "\n",
    "    # Create the \"interview_questions\" folder if it doesn't exist\n",
    "    if not os.path.exists(destination_folder):\n",
    "        os.makedirs(destination_folder)\n",
    "\n",
    "    # Organize files based on the regex pattern\n",
    "    organize_files(source_folder, destination_folder)"
   ]
  }
 ],
 "metadata": {
  "kernelspec": {
   "display_name": "Python 3 (ipykernel)",
   "language": "python",
   "name": "python3"
  },
  "language_info": {
   "codemirror_mode": {
    "name": "ipython",
    "version": 3
   },
   "file_extension": ".py",
   "mimetype": "text/x-python",
   "name": "python",
   "nbconvert_exporter": "python",
   "pygments_lexer": "ipython3",
   "version": "3.11.5"
  }
 },
 "nbformat": 4,
 "nbformat_minor": 5
}
